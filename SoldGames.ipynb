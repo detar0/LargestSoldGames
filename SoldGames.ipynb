{
  "nbformat": 4,
  "nbformat_minor": 0,
  "metadata": {
    "colab": {
      "provenance": [],
      "authorship_tag": "ABX9TyNdPIcI90YUGtIbtpZLak2u"
    },
    "kernelspec": {
      "name": "python3",
      "display_name": "Python 3"
    },
    "language_info": {
      "name": "python"
    }
  },
  "cells": [
    {
      "cell_type": "code",
      "execution_count": null,
      "metadata": {
        "id": "aDbIADZMeTIT"
      },
      "outputs": [],
      "source": [
        "\n",
        "# Importing the libraries\n",
        "import sqlite3\n",
        "import pandas as pd\n",
        "import matplotlib.pyplot as plt\n",
        "import seaborn as sns\n",
        "import zipfile\n",
        "# Unzipping the file\n",
        "with zipfile.ZipFile(\"/content/vgsales.csv.zip\") as zip_ref:\n",
        "  zip_ref.extractall(\"/content\")\n",
        "# Reading the csv\n",
        "df=pd.read_csv(\"/content/vgsales.csv\")\n",
        "print(df.head())\n",
        "\n",
        "# Connecting to sql\n",
        "conn=sqlite3.connect(\":memory:\")\n",
        "df.to_sql(\"MTable\", conn, index=False, if_exists=\"replace\")\n",
        "\n",
        "# creating the query\n",
        "query = \"\"\"\n",
        "SELECT Genre, SUM(\"Global_Sales\") as Total_Sales\n",
        "FROM MTable\n",
        "GROUP BY Genre\n",
        "ORDER BY Total_Sales DESC\n",
        "LIMIT 5\n",
        "\"\"\"\n",
        "# Seeing the results\n",
        "data=pd.read_sql_query(query, conn)\n",
        "print(data)\n",
        "# Creating the barplot\n",
        "sns.set_style(\"whitegrid\")\n",
        "fig, ax=plt.subplots(figsize=(12,8))\n",
        "\n",
        "sns.barplot(x=\"Genre\",y=\"Total_Sales\", data=data, hue=\"Genre\", palette=\"deep\")\n",
        "\n",
        "plt.title(\"Bar Plot:Largest sold Video Games Genre\")\n",
        "plt.ylabel(\"Sales\", fontsize=15)\n",
        "plt.xlabel(\"Genre\", fontsize=15)\n",
        "plt.xticks(rotation=45)\n",
        "plt.tight_layout()\n",
        "plt.show()"
      ]
    }
  ]
}