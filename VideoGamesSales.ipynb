{
  "nbformat": 4,
  "nbformat_minor": 0,
  "metadata": {
    "colab": {
      "provenance": [],
      "authorship_tag": "ABX9TyPMUaf/bn+e5eQ4An5LemnT"
    },
    "kernelspec": {
      "name": "python3",
      "display_name": "Python 3"
    },
    "language_info": {
      "name": "python"
    }
  },
  "cells": [
    {
      "cell_type": "code",
      "execution_count": null,
      "metadata": {
        "id": "g-GJTM_9-UJn"
      },
      "outputs": [],
      "source": [
        "# Importing the libraries\n",
        "import sqlite3\n",
        "import pandas as pd\n",
        "import matplotlib.pyplot as plt\n",
        "import seaborn as sns\n",
        "import zipfile\n",
        "# Unzipping the file\n",
        "with zipfile.ZipFile(\"/content/vgsales.csv.zip\") as zip_ref:\n",
        "  zip_ref.extractall(\"/content\")\n",
        "# Reading the csv\n",
        "df=pd.read_csv(\"/content/vgsales.csv\")\n",
        "print(df.head())\n",
        "\n",
        "# Connecting to sql\n",
        "conn=sqlite3.connect(\":memory:\")\n",
        "df.to_sql(\"MTable\", conn, index=False, if_exists=\"replace\")\n",
        "\n",
        "# creating the query\n",
        "query = \"\"\"\n",
        "SELECT CAST(Year AS INTEGER) AS cleaned_year,Genre, SUM(Global_Sales) as Total_Sales\n",
        "FROM MTable\n",
        "WHERE Year BETWEEN 1991 AND 2015\n",
        "GROUP BY cleaned_year,Genre\n",
        "\"\"\"\n",
        "# Seeing the results\n",
        "data=pd.read_sql_query(query, conn)\n",
        "print(data)\n",
        "# Creating the pivot\n",
        "sns.set_theme(style=\"whitegrid\")\n",
        "fig, ax=plt.subplots(figsize=(14,8))\n",
        "\n",
        "data_pivot=data.pivot_table(\n",
        "   index=\"cleaned_year\",\n",
        "   columns=\"Genre\",\n",
        "   values=\"Total_Sales\",\n",
        "   aggfunc=\"sum\"\n",
        "# Creating the heatmap\n",
        ")\n",
        "sns.heatmap(\n",
        "   data_pivot,\n",
        "   annot=True,\n",
        "   fmt=\".1f\",\n",
        "   cmap=\"coolwarm\",\n",
        "   cbar=True,\n",
        "   square=False,\n",
        "   linewidths=0.5\n",
        ")\n",
        "plt.title(\"Heatmap:Video Games sales by Genre over the years(1991-2015)\")\n",
        "plt.ylabel(\"Sales\")\n",
        "plt.xlabel(\"Genre\")\n",
        "plt.tight_layout()\n",
        "plt.show()"
      ]
    }
  ]
}